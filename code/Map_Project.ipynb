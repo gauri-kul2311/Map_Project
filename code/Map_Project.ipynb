{
 "cells": [
  {
   "cell_type": "code",
   "execution_count": 3,
   "metadata": {
    "collapsed": false,
    "deletable": true,
    "editable": true
   },
   "outputs": [
    {
     "name": "stdout",
     "output_type": "stream",
     "text": [
      "Enter source : \n",
      "Dr. Babasaheb Ambedkar International Airport\n",
      "Dr. Babasaheb Ambedkar International Airport, Ring Road, Bandu Soni Layout, Dhantoli, Nagpur Urban Taluka, Nagpur District, Maharashtra, 440001, India\n",
      "Enter destination  1  : \n",
      "Itwari\n",
      "Itwari Junction, NH53, Gandhi Baug, Nagpur Urban Taluka, Nagpur District, Maharashtra, 440001, India\n",
      "(21.1575034, 79.1188261)\n",
      "Enter destination  2  : \n",
      "Empress Mall\n",
      "Empress Mall, Shri Bejonji Mehta Road, Santra Bazaar, Gandhi Baug, Nagpur Urban Taluka, Nagpur District, Maharashtra, 440018, India\n",
      "(21.1480866, 79.0932379)\n",
      "Enter destination  3  : \n",
      "RBI Square\n",
      "RBI Square, NH47;NH53, Santra Bazaar, Sadar Bazaar, Nagpur Urban Taluka, Nagpur District, Maharashtra, 440001, India\n",
      "(21.1526445, 79.0809738)\n",
      "Enter destination  4  : \n",
      "Yashwant Stadium\n",
      "Yashwant Stadium, North Ambazari Road, Shaniwari, Dhantoli, Nagpur Urban Taluka, Nagpur District, Maharashtra, 440001, India\n",
      "(21.139397250000002, 79.08226823640393)\n",
      "Enter destination  5  : \n",
      "Katol Road\n",
      "Katol Road, Chaoni, Sadar Bazaar, Nagpur Urban Taluka, Nagpur District, Maharashtra, 440001, India\n",
      "(21.1704471, 79.0750938)\n"
     ]
    }
   ],
   "source": [
    "import pandas as pd, numpy as np\n",
    "from geopy.geocoders import Nominatim\n",
    "final_data = []\n",
    "geolocator = Nominatim(user_agent=\"Gmaps\")\n",
    "print(\"Enter source : \")\n",
    "source=input()\n",
    "loc = geolocator.geocode(source)\n",
    "print(loc.address)\n",
    "src_lat=loc.latitude\n",
    "src_lng=loc.longitude\n",
    "for i in range(1,6) :\n",
    "    print(\"Enter destination \",i,\" : \")\n",
    "    address=input()\n",
    "    location = geolocator.geocode(address)\n",
    "    print(location.address)\n",
    "    lng=location.latitude\n",
    "    lat=location.longitude\n",
    "    print((location.latitude, location.longitude))\n",
    "    data=[address,lng,lat]\n",
    "    final_data.append(data)\n",
    "labels = ['Place Name','Latitude', 'Longitude']\n",
    "dataframe_1 = pd.DataFrame.from_records(final_data, columns=labels)"
   ]
  },
  {
   "cell_type": "code",
   "execution_count": 6,
   "metadata": {
    "collapsed": false,
    "deletable": true,
    "editable": true
   },
   "outputs": [
    {
     "data": {
      "text/html": [
       "<div>\n",
       "<style scoped>\n",
       "    .dataframe tbody tr th:only-of-type {\n",
       "        vertical-align: middle;\n",
       "    }\n",
       "\n",
       "    .dataframe tbody tr th {\n",
       "        vertical-align: top;\n",
       "    }\n",
       "\n",
       "    .dataframe thead th {\n",
       "        text-align: right;\n",
       "    }\n",
       "</style>\n",
       "<table border=\"1\" class=\"dataframe\">\n",
       "  <thead>\n",
       "    <tr style=\"text-align: right;\">\n",
       "      <th></th>\n",
       "      <th>Place Name</th>\n",
       "      <th>Latitude</th>\n",
       "      <th>Longitude</th>\n",
       "    </tr>\n",
       "  </thead>\n",
       "  <tbody>\n",
       "    <tr>\n",
       "      <th>0</th>\n",
       "      <td>Itwari</td>\n",
       "      <td>21.157503</td>\n",
       "      <td>79.118826</td>\n",
       "    </tr>\n",
       "    <tr>\n",
       "      <th>1</th>\n",
       "      <td>Empress Mall</td>\n",
       "      <td>21.148087</td>\n",
       "      <td>79.093238</td>\n",
       "    </tr>\n",
       "    <tr>\n",
       "      <th>2</th>\n",
       "      <td>RBI Square</td>\n",
       "      <td>21.152645</td>\n",
       "      <td>79.080974</td>\n",
       "    </tr>\n",
       "    <tr>\n",
       "      <th>3</th>\n",
       "      <td>Yashwant Stadium</td>\n",
       "      <td>21.139397</td>\n",
       "      <td>79.082268</td>\n",
       "    </tr>\n",
       "    <tr>\n",
       "      <th>4</th>\n",
       "      <td>Katol Road</td>\n",
       "      <td>21.170447</td>\n",
       "      <td>79.075094</td>\n",
       "    </tr>\n",
       "  </tbody>\n",
       "</table>\n",
       "</div>"
      ],
      "text/plain": [
       "         Place Name   Latitude  Longitude\n",
       "0            Itwari  21.157503  79.118826\n",
       "1      Empress Mall  21.148087  79.093238\n",
       "2        RBI Square  21.152645  79.080974\n",
       "3  Yashwant Stadium  21.139397  79.082268\n",
       "4        Katol Road  21.170447  79.075094"
      ]
     },
     "execution_count": 6,
     "metadata": {},
     "output_type": "execute_result"
    }
   ],
   "source": [
    "dataframe_1"
   ]
  },
  {
   "cell_type": "code",
   "execution_count": 4,
   "metadata": {
    "collapsed": true,
    "deletable": true,
    "editable": true
   },
   "outputs": [],
   "source": [
    "import osmnx as ox\n",
    "import networkx as nx\n",
    "place=\"Nagpur,Maharashtra,India\"\n",
    "G=ox.graph_from_place(place,network_type='drive',simplify=True)\n",
    "edges=ox.graph_to_gdfs(G,nodes=True,edges=True)"
   ]
  },
  {
   "cell_type": "code",
   "execution_count": 7,
   "metadata": {
    "collapsed": false,
    "deletable": true,
    "editable": true
   },
   "outputs": [
    {
     "data": {
      "text/html": [
       "<div>\n",
       "<style scoped>\n",
       "    .dataframe tbody tr th:only-of-type {\n",
       "        vertical-align: middle;\n",
       "    }\n",
       "\n",
       "    .dataframe tbody tr th {\n",
       "        vertical-align: top;\n",
       "    }\n",
       "\n",
       "    .dataframe thead th {\n",
       "        text-align: right;\n",
       "    }\n",
       "</style>\n",
       "<table border=\"1\" class=\"dataframe\">\n",
       "  <thead>\n",
       "    <tr style=\"text-align: right;\">\n",
       "      <th></th>\n",
       "      <th>Source</th>\n",
       "      <th>Destination</th>\n",
       "      <th>Distance(km)</th>\n",
       "    </tr>\n",
       "  </thead>\n",
       "  <tbody>\n",
       "    <tr>\n",
       "      <th>0</th>\n",
       "      <td>Dr. Babasaheb Ambedkar International Airport</td>\n",
       "      <td>Itwari</td>\n",
       "      <td>11.70</td>\n",
       "    </tr>\n",
       "    <tr>\n",
       "      <th>1</th>\n",
       "      <td>Dr. Babasaheb Ambedkar International Airport</td>\n",
       "      <td>Empress Mall</td>\n",
       "      <td>8.53</td>\n",
       "    </tr>\n",
       "    <tr>\n",
       "      <th>2</th>\n",
       "      <td>Dr. Babasaheb Ambedkar International Airport</td>\n",
       "      <td>RBI Square</td>\n",
       "      <td>7.88</td>\n",
       "    </tr>\n",
       "    <tr>\n",
       "      <th>3</th>\n",
       "      <td>Dr. Babasaheb Ambedkar International Airport</td>\n",
       "      <td>Yashwant Stadium</td>\n",
       "      <td>6.76</td>\n",
       "    </tr>\n",
       "    <tr>\n",
       "      <th>4</th>\n",
       "      <td>Dr. Babasaheb Ambedkar International Airport</td>\n",
       "      <td>Katol Road</td>\n",
       "      <td>10.28</td>\n",
       "    </tr>\n",
       "  </tbody>\n",
       "</table>\n",
       "</div>"
      ],
      "text/plain": [
       "                                         Source       Destination  \\\n",
       "0  Dr. Babasaheb Ambedkar International Airport            Itwari   \n",
       "1  Dr. Babasaheb Ambedkar International Airport      Empress Mall   \n",
       "2  Dr. Babasaheb Ambedkar International Airport        RBI Square   \n",
       "3  Dr. Babasaheb Ambedkar International Airport  Yashwant Stadium   \n",
       "4  Dr. Babasaheb Ambedkar International Airport        Katol Road   \n",
       "\n",
       "   Distance(km)  \n",
       "0         11.70  \n",
       "1          8.53  \n",
       "2          7.88  \n",
       "3          6.76  \n",
       "4         10.28  "
      ]
     },
     "execution_count": 7,
     "metadata": {},
     "output_type": "execute_result"
    }
   ],
   "source": [
    "final_data1=[]\n",
    "latlng=[]\n",
    "for i in dataframe_1.itertuples():\n",
    "    place=i[1]\n",
    "    lat=i[2]\n",
    "    lng=i[3]\n",
    "    latlng.append((place,lat,lng))\n",
    "    src= ox.get_nearest_node(G, (src_lat,src_lng))\n",
    "    dest = ox.get_nearest_node(G, (lat,lng))\n",
    "    route=nx.shortest_path_length(G,source=src,target=dest,weight='length')\n",
    "    r=round(float(route/1000),2)\n",
    "    data=[source,place,r]\n",
    "    final_data1.append(data)\n",
    "labels = ['Source','Destination', 'Distance(km)']\n",
    "dataframe_2 = pd.DataFrame.from_records(final_data1, columns=labels)\n",
    "dataframe_2.to_csv('project_map.csv')\n",
    "dataframe_2"
   ]
  },
  {
   "cell_type": "code",
   "execution_count": 8,
   "metadata": {
    "collapsed": false,
    "deletable": true,
    "editable": true
   },
   "outputs": [
    {
     "data": {
      "text/html": [
       "<div style=\"width:100%;\"><div style=\"position:relative;width:100%;height:0;padding-bottom:60%;\"><span style=\"color:#565656\">Make this Notebook Trusted to load map: File -> Trust Notebook</span><iframe src=\"about:blank\" style=\"position:absolute;width:100%;height:100%;left:0;top:0;border:none !important;\" data-html=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 onload=\"this.contentDocument.open();this.contentDocument.write(atob(this.getAttribute('data-html')));this.contentDocument.close();\" allowfullscreen webkitallowfullscreen mozallowfullscreen></iframe></div></div>"
      ],
      "text/plain": [
       "<folium.folium.Map at 0x183cf824240>"
      ]
     },
     "execution_count": 8,
     "metadata": {},
     "output_type": "execute_result"
    }
   ],
   "source": [
    "import folium\n",
    "mapit = folium.Map( location=[src_lat,src_lng], zoom_start=12 )\n",
    "folium.Marker(location=[ src_lat,src_lng ],popup=source, icon= folium.Icon(color='red',icon = 'plane') , radius=8 ).add_to(mapit)\n",
    "#icon= folium.Icon(color='red',icon = 'info-sign')\n",
    "for coord in latlng:\n",
    "    folium.Marker( location=[ coord[1], coord[2] ],popup=coord[0], fill_color='#43d9de', radius=8 ).add_to( mapit )\n",
    "mapit.save( 'project_map.html')\n",
    "mapit"
   ]
  },
  {
   "cell_type": "code",
   "execution_count": null,
   "metadata": {
    "collapsed": true,
    "deletable": true,
    "editable": true
   },
   "outputs": [],
   "source": []
  }
 ],
 "metadata": {
  "kernelspec": {
   "display_name": "Python 3",
   "language": "python",
   "name": "python3"
  },
  "language_info": {
   "codemirror_mode": {
    "name": "ipython",
    "version": 3
   },
   "file_extension": ".py",
   "mimetype": "text/x-python",
   "name": "python",
   "nbconvert_exporter": "python",
   "pygments_lexer": "ipython3",
   "version": "3.5.2"
  }
 },
 "nbformat": 4,
 "nbformat_minor": 2
}
